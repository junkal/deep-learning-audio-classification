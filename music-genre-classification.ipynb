{
 "cells": [
  {
   "cell_type": "code",
   "execution_count": 1,
   "metadata": {
    "_cell_guid": "b1076dfc-b9ad-4769-8c92-a6c4dae69d19",
    "_uuid": "8f2839f25d086af736a60e9eeb907d3b93b6e0e5",
    "execution": {
     "iopub.execute_input": "2022-05-29T16:46:26.179855Z",
     "iopub.status.busy": "2022-05-29T16:46:26.179389Z",
     "iopub.status.idle": "2022-05-29T16:46:26.184419Z",
     "shell.execute_reply": "2022-05-29T16:46:26.183634Z",
     "shell.execute_reply.started": "2022-05-29T16:46:26.179822Z"
    }
   },
   "outputs": [],
   "source": [
    "import os\n",
    "import numpy as np\n",
    "import pandas as pd\n",
    "import librosa, librosa.display\n",
    "from util import *\n",
    "\n",
    "from warnings import simplefilter\n",
    "# ignore all future warnings\n",
    "simplefilter(action='ignore', category=FutureWarning)"
   ]
  },
  {
   "cell_type": "markdown",
   "metadata": {},
   "source": [
    "# Data Extraction\n",
    "\n",
    "The data extraction is handled in a seperate script extract_audio_features.ipynb. The script breaks down the audio files into small chunks and extracts the features from each of the audio chunks and store them all into the .csv file. 1 out of the 1,000 audio files is corrupted and not used for analysis. Otherwise, the 999 audio files are processed by extract_audio_features.ipynb to create 9990 rows of data features stored in the .csv file for model training."
   ]
  },
  {
   "cell_type": "markdown",
   "metadata": {},
   "source": [
    "# Exploratory Data Analysis"
   ]
  },
  {
   "cell_type": "code",
   "execution_count": 2,
   "metadata": {
    "execution": {
     "iopub.execute_input": "2022-05-29T16:46:26.185803Z",
     "iopub.status.busy": "2022-05-29T16:46:26.185372Z",
     "iopub.status.idle": "2022-05-29T16:46:26.234385Z",
     "shell.execute_reply": "2022-05-29T16:46:26.233483Z",
     "shell.execute_reply.started": "2022-05-29T16:46:26.185773Z"
    }
   },
   "outputs": [
    {
     "name": "stdout",
     "output_type": "stream",
     "text": [
      "Date shape: (9685, 58)\n"
     ]
    },
    {
     "data": {
      "text/html": [
       "<div>\n",
       "<style scoped>\n",
       "    .dataframe tbody tr th:only-of-type {\n",
       "        vertical-align: middle;\n",
       "    }\n",
       "\n",
       "    .dataframe tbody tr th {\n",
       "        vertical-align: top;\n",
       "    }\n",
       "\n",
       "    .dataframe thead th {\n",
       "        text-align: right;\n",
       "    }\n",
       "</style>\n",
       "<table border=\"1\" class=\"dataframe\">\n",
       "  <thead>\n",
       "    <tr style=\"text-align: right;\">\n",
       "      <th></th>\n",
       "      <th>filename</th>\n",
       "      <th>length</th>\n",
       "      <th>chroma_stft_mean</th>\n",
       "      <th>chroma_stft_var</th>\n",
       "      <th>rms_mean</th>\n",
       "      <th>rms_var</th>\n",
       "      <th>spectral_centroid_mean</th>\n",
       "      <th>spectral_centroid_var</th>\n",
       "      <th>spectral_bandwidth_mean</th>\n",
       "      <th>spectral_bandwidth_var</th>\n",
       "      <th>...</th>\n",
       "      <th>mfcc16_var</th>\n",
       "      <th>mfcc17_mean</th>\n",
       "      <th>mfcc17_var</th>\n",
       "      <th>mfcc18_mean</th>\n",
       "      <th>mfcc18_var</th>\n",
       "      <th>mfcc19_mean</th>\n",
       "      <th>mfcc19_var</th>\n",
       "      <th>mfcc20_mean</th>\n",
       "      <th>mfcc20_var</th>\n",
       "      <th>label</th>\n",
       "    </tr>\n",
       "  </thead>\n",
       "  <tbody>\n",
       "    <tr>\n",
       "      <th>0</th>\n",
       "      <td>pop.00027.0.wav</td>\n",
       "      <td>66150</td>\n",
       "      <td>0.354070</td>\n",
       "      <td>0.092004</td>\n",
       "      <td>0.133745</td>\n",
       "      <td>0.002745</td>\n",
       "      <td>3041.383942</td>\n",
       "      <td>7.140194e+05</td>\n",
       "      <td>3126.119651</td>\n",
       "      <td>180625.664149</td>\n",
       "      <td>...</td>\n",
       "      <td>75.57889</td>\n",
       "      <td>-1.411003</td>\n",
       "      <td>99.614210</td>\n",
       "      <td>-0.176044</td>\n",
       "      <td>120.819330</td>\n",
       "      <td>-0.039866</td>\n",
       "      <td>78.574684</td>\n",
       "      <td>-3.026498</td>\n",
       "      <td>86.39399</td>\n",
       "      <td>pop</td>\n",
       "    </tr>\n",
       "    <tr>\n",
       "      <th>1</th>\n",
       "      <td>pop.00027.1.wav</td>\n",
       "      <td>66150</td>\n",
       "      <td>0.346957</td>\n",
       "      <td>0.089579</td>\n",
       "      <td>0.143777</td>\n",
       "      <td>0.001806</td>\n",
       "      <td>2922.334626</td>\n",
       "      <td>1.250350e+06</td>\n",
       "      <td>2960.381766</td>\n",
       "      <td>225852.280494</td>\n",
       "      <td>...</td>\n",
       "      <td>75.58028</td>\n",
       "      <td>-6.210502</td>\n",
       "      <td>64.975590</td>\n",
       "      <td>-2.355854</td>\n",
       "      <td>87.215120</td>\n",
       "      <td>0.570278</td>\n",
       "      <td>94.365520</td>\n",
       "      <td>3.037296</td>\n",
       "      <td>105.46779</td>\n",
       "      <td>pop</td>\n",
       "    </tr>\n",
       "    <tr>\n",
       "      <th>2</th>\n",
       "      <td>pop.00027.2.wav</td>\n",
       "      <td>66150</td>\n",
       "      <td>0.328392</td>\n",
       "      <td>0.090207</td>\n",
       "      <td>0.130174</td>\n",
       "      <td>0.002610</td>\n",
       "      <td>2802.174545</td>\n",
       "      <td>7.740314e+05</td>\n",
       "      <td>3067.712826</td>\n",
       "      <td>229109.502454</td>\n",
       "      <td>...</td>\n",
       "      <td>76.66625</td>\n",
       "      <td>-1.685729</td>\n",
       "      <td>116.244995</td>\n",
       "      <td>-0.341337</td>\n",
       "      <td>114.137760</td>\n",
       "      <td>-0.482767</td>\n",
       "      <td>104.127144</td>\n",
       "      <td>-3.239160</td>\n",
       "      <td>106.19654</td>\n",
       "      <td>pop</td>\n",
       "    </tr>\n",
       "    <tr>\n",
       "      <th>3</th>\n",
       "      <td>pop.00027.3.wav</td>\n",
       "      <td>66150</td>\n",
       "      <td>0.310396</td>\n",
       "      <td>0.079919</td>\n",
       "      <td>0.171010</td>\n",
       "      <td>0.002549</td>\n",
       "      <td>2723.966562</td>\n",
       "      <td>9.677586e+05</td>\n",
       "      <td>2968.551682</td>\n",
       "      <td>172274.167333</td>\n",
       "      <td>...</td>\n",
       "      <td>159.05185</td>\n",
       "      <td>-1.928844</td>\n",
       "      <td>140.865980</td>\n",
       "      <td>-3.151660</td>\n",
       "      <td>95.238190</td>\n",
       "      <td>-8.257116</td>\n",
       "      <td>86.091090</td>\n",
       "      <td>-8.010163</td>\n",
       "      <td>141.83983</td>\n",
       "      <td>pop</td>\n",
       "    </tr>\n",
       "    <tr>\n",
       "      <th>4</th>\n",
       "      <td>pop.00027.4.wav</td>\n",
       "      <td>66150</td>\n",
       "      <td>0.440510</td>\n",
       "      <td>0.085436</td>\n",
       "      <td>0.148661</td>\n",
       "      <td>0.002220</td>\n",
       "      <td>2377.343178</td>\n",
       "      <td>8.584688e+05</td>\n",
       "      <td>2897.081914</td>\n",
       "      <td>198226.454488</td>\n",
       "      <td>...</td>\n",
       "      <td>32.92679</td>\n",
       "      <td>-1.269860</td>\n",
       "      <td>46.452496</td>\n",
       "      <td>-0.986701</td>\n",
       "      <td>28.281462</td>\n",
       "      <td>-3.069594</td>\n",
       "      <td>39.764366</td>\n",
       "      <td>-8.417820</td>\n",
       "      <td>50.49454</td>\n",
       "      <td>pop</td>\n",
       "    </tr>\n",
       "  </tbody>\n",
       "</table>\n",
       "<p>5 rows × 58 columns</p>\n",
       "</div>"
      ],
      "text/plain": [
       "          filename  length  chroma_stft_mean  chroma_stft_var  rms_mean  \\\n",
       "0  pop.00027.0.wav   66150          0.354070         0.092004  0.133745   \n",
       "1  pop.00027.1.wav   66150          0.346957         0.089579  0.143777   \n",
       "2  pop.00027.2.wav   66150          0.328392         0.090207  0.130174   \n",
       "3  pop.00027.3.wav   66150          0.310396         0.079919  0.171010   \n",
       "4  pop.00027.4.wav   66150          0.440510         0.085436  0.148661   \n",
       "\n",
       "    rms_var  spectral_centroid_mean  spectral_centroid_var  \\\n",
       "0  0.002745             3041.383942           7.140194e+05   \n",
       "1  0.001806             2922.334626           1.250350e+06   \n",
       "2  0.002610             2802.174545           7.740314e+05   \n",
       "3  0.002549             2723.966562           9.677586e+05   \n",
       "4  0.002220             2377.343178           8.584688e+05   \n",
       "\n",
       "   spectral_bandwidth_mean  spectral_bandwidth_var  ...  mfcc16_var  \\\n",
       "0              3126.119651           180625.664149  ...    75.57889   \n",
       "1              2960.381766           225852.280494  ...    75.58028   \n",
       "2              3067.712826           229109.502454  ...    76.66625   \n",
       "3              2968.551682           172274.167333  ...   159.05185   \n",
       "4              2897.081914           198226.454488  ...    32.92679   \n",
       "\n",
       "   mfcc17_mean  mfcc17_var  mfcc18_mean  mfcc18_var  mfcc19_mean  mfcc19_var  \\\n",
       "0    -1.411003   99.614210    -0.176044  120.819330    -0.039866   78.574684   \n",
       "1    -6.210502   64.975590    -2.355854   87.215120     0.570278   94.365520   \n",
       "2    -1.685729  116.244995    -0.341337  114.137760    -0.482767  104.127144   \n",
       "3    -1.928844  140.865980    -3.151660   95.238190    -8.257116   86.091090   \n",
       "4    -1.269860   46.452496    -0.986701   28.281462    -3.069594   39.764366   \n",
       "\n",
       "   mfcc20_mean  mfcc20_var  label  \n",
       "0    -3.026498    86.39399    pop  \n",
       "1     3.037296   105.46779    pop  \n",
       "2    -3.239160   106.19654    pop  \n",
       "3    -8.010163   141.83983    pop  \n",
       "4    -8.417820    50.49454    pop  \n",
       "\n",
       "[5 rows x 58 columns]"
      ]
     },
     "execution_count": 2,
     "metadata": {},
     "output_type": "execute_result"
    }
   ],
   "source": [
    "# audio_features_3_sec.csv is the output csv file from the data extraction steps.\n",
    "df = pd.read_csv(\"./data/audio_features_3_sec.csv\")\n",
    "print(\"Date shape: {}\".format(df.shape))\n",
    "df.head(5)"
   ]
  },
  {
   "cell_type": "code",
   "execution_count": 3,
   "metadata": {
    "execution": {
     "iopub.execute_input": "2022-05-29T16:46:35.939251Z",
     "iopub.status.busy": "2022-05-29T16:46:35.938713Z",
     "iopub.status.idle": "2022-05-29T16:46:36.196379Z",
     "shell.execute_reply": "2022-05-29T16:46:36.195380Z",
     "shell.execute_reply.started": "2022-05-29T16:46:35.939218Z"
    }
   },
   "outputs": [
    {
     "data": {
      "image/png": "[encoded data removed]",
      "text/plain": [
       "<Figure size 864x432 with 1 Axes>"
      ]
     },
     "metadata": {
      "needs_background": "light"
     },
     "output_type": "display_data"
    }
   ],
   "source": [
    "graph = df[\"label\"].value_counts()\n",
    "graph.plot.bar(x=graph.keys(), \n",
    "               y=graph.values, \n",
    "               title=\"Distribution of Music files\",\n",
    "               figsize=(12,6));\n",
    "\n",
    "plt.show(block=True);"
   ]
  },
  {
   "cell_type": "markdown",
   "metadata": {},
   "source": [
    "## Data Preparation\n",
    "\n",
    "Preprocessing of data is required before we actually train the data. The label column will be encoded using the LabelEncoder() function from sklearn.preprocessing. The class and label encoding will then be persisted into a .pkl file which will be loaded before doing inferences of individual audio files."
   ]
  },
  {
   "cell_type": "code",
   "execution_count": 4,
   "metadata": {
    "execution": {
     "iopub.execute_input": "2022-05-29T16:46:59.700171Z",
     "iopub.status.busy": "2022-05-29T16:46:59.699752Z",
     "iopub.status.idle": "2022-05-29T16:46:59.709112Z",
     "shell.execute_reply": "2022-05-29T16:46:59.708231Z",
     "shell.execute_reply.started": "2022-05-29T16:46:59.700136Z"
    }
   },
   "outputs": [
    {
     "data": {
      "text/plain": [
       "(9685,)"
      ]
     },
     "execution_count": 4,
     "metadata": {},
     "output_type": "execute_result"
    }
   ],
   "source": [
    "from sklearn.preprocessing import LabelEncoder\n",
    "\n",
    "class_list = df.iloc[:,-1]\n",
    "converter = LabelEncoder()\n",
    "y = converter.fit_transform(class_list)\n",
    "y.shape"
   ]
  },
  {
   "cell_type": "code",
   "execution_count": 5,
   "metadata": {},
   "outputs": [
    {
     "name": "stdout",
     "output_type": "stream",
     "text": [
      "{0: 'blues', 1: 'classical', 2: 'country', 3: 'disco', 4: 'hiphop', 5: 'jazz', 6: 'metal', 7: 'pop', 8: 'reggae', 9: 'rock'}\n"
     ]
    }
   ],
   "source": [
    "import pickle\n",
    "\n",
    "mapping = dict(zip(converter.transform(converter.classes_), converter.classes_))\n",
    "print(mapping)\n",
    "\n",
    "f = open(\"mapping.pkl\",\"wb\")\n",
    "pickle.dump(mapping,f)\n",
    "f.close()"
   ]
  },
  {
   "cell_type": "markdown",
   "metadata": {},
   "source": [
    "## Data scaling\n",
    "\n",
    "The data is scaled by using the StandardScaler from sklearn to standardize the features by removing the mean and scaling to unit variance. Once the StandardScaler is fitted to the dataset, the StandardScaler is persisted into a .bin using the joblib.dump function. The StandardScaler will be loaded from the .bin file to scale the into data before doing model inference."
   ]
  },
  {
   "cell_type": "code",
   "execution_count": 6,
   "metadata": {
    "execution": {
     "iopub.execute_input": "2022-05-29T16:47:06.540368Z",
     "iopub.status.busy": "2022-05-29T16:47:06.539700Z",
     "iopub.status.idle": "2022-05-29T16:47:06.548182Z",
     "shell.execute_reply": "2022-05-29T16:47:06.547133Z",
     "shell.execute_reply.started": "2022-05-29T16:47:06.540330Z"
    }
   },
   "outputs": [
    {
     "data": {
      "text/plain": [
       "['standardscaler.bin']"
      ]
     },
     "execution_count": 6,
     "metadata": {},
     "output_type": "execute_result"
    }
   ],
   "source": [
    "from sklearn.preprocessing import StandardScaler\n",
    "from joblib import dump\n",
    "\n",
    "scaler = StandardScaler()\n",
    "df = df.drop(labels=[\"filename\", \"label\"],axis=1)\n",
    "X = scaler.fit_transform(df)\n",
    "dump(scaler, 'standardscaler.bin', compress=True)"
   ]
  },
  {
   "cell_type": "markdown",
   "metadata": {},
   "source": [
    "## Dividing Training and Testing Dataset\n",
    "\n",
    "Use the train_test_split function to split the data into train (80%) and test set (20%). Set the random state so that the data split can be replicated across experiements."
   ]
  },
  {
   "cell_type": "code",
   "execution_count": 21,
   "metadata": {
    "execution": {
     "iopub.execute_input": "2022-05-29T16:47:11.186680Z",
     "iopub.status.busy": "2022-05-29T16:47:11.185954Z",
     "iopub.status.idle": "2022-05-29T16:47:11.193981Z",
     "shell.execute_reply": "2022-05-29T16:47:11.193082Z",
     "shell.execute_reply.started": "2022-05-29T16:47:11.186571Z"
    }
   },
   "outputs": [
    {
     "name": "stdout",
     "output_type": "stream",
     "text": [
      "Train data size: 7748, Validation data size: 1937\n"
     ]
    }
   ],
   "source": [
    "from sklearn.model_selection import train_test_split\n",
    "\n",
    "X_train, X_test, y_train, y_test = train_test_split(X, y, random_state = 41, test_size = 0.20)\n",
    "print(\"Train data size: {}, Validation data size: {}\".format(len(y_train), len(y_test)))"
   ]
  },
  {
   "cell_type": "markdown",
   "metadata": {},
   "source": [
    "## Building the model\n",
    "\n",
    "We define a deep neural net to be the audio classifier model. The neural net is essentially 6 Dense layers and the final Dense layer has 10 output classes. Each of the Dense layer, except for the final layer, has \"RELU\" activation function. Add Dropout layers between the Dense layers to prevent overfitting. The model is compiled with Adam optimizer with sparse_categorical_crossentropy loss function."
   ]
  },
  {
   "cell_type": "code",
   "execution_count": 8,
   "metadata": {
    "execution": {
     "iopub.execute_input": "2022-05-29T16:47:14.131128Z",
     "iopub.status.busy": "2022-05-29T16:47:14.130399Z",
     "iopub.status.idle": "2022-05-29T16:47:20.609290Z",
     "shell.execute_reply": "2022-05-29T16:47:20.608100Z",
     "shell.execute_reply.started": "2022-05-29T16:47:14.131082Z"
    }
   },
   "outputs": [],
   "source": [
    "import tensorflow as tf\n",
    "from tensorflow.keras.models import Sequential\n",
    "from tensorflow.keras.layers import Dense, Dropout"
   ]
  },
  {
   "cell_type": "code",
   "execution_count": 9,
   "metadata": {
    "execution": {
     "iopub.execute_input": "2022-05-29T16:51:01.635680Z",
     "iopub.status.busy": "2022-05-29T16:51:01.635223Z",
     "iopub.status.idle": "2022-05-29T16:51:01.718855Z",
     "shell.execute_reply": "2022-05-29T16:51:01.718110Z",
     "shell.execute_reply.started": "2022-05-29T16:51:01.635627Z"
    }
   },
   "outputs": [
    {
     "name": "stdout",
     "output_type": "stream",
     "text": [
      "Model: \"sequential\"\n",
      "_________________________________________________________________\n",
      " Layer (type)                Output Shape              Param #   \n",
      "=================================================================\n",
      " dense (Dense)               (None, 1024)              58368     \n",
      "                                                                 \n",
      " dropout (Dropout)           (None, 1024)              0         \n",
      "                                                                 \n",
      " dense_1 (Dense)             (None, 512)               524800    \n",
      "                                                                 \n",
      " dropout_1 (Dropout)         (None, 512)               0         \n",
      "                                                                 \n",
      " dense_2 (Dense)             (None, 256)               131328    \n",
      "                                                                 \n",
      " dropout_2 (Dropout)         (None, 256)               0         \n",
      "                                                                 \n",
      " dense_3 (Dense)             (None, 128)               32896     \n",
      "                                                                 \n",
      " dropout_3 (Dropout)         (None, 128)               0         \n",
      "                                                                 \n",
      " dense_4 (Dense)             (None, 64)                8256      \n",
      "                                                                 \n",
      " dropout_4 (Dropout)         (None, 64)                0         \n",
      "                                                                 \n",
      " dense_5 (Dense)             (None, 10)                650       \n",
      "                                                                 \n",
      "=================================================================\n",
      "Total params: 756,298\n",
      "Trainable params: 756,298\n",
      "Non-trainable params: 0\n",
      "_________________________________________________________________\n",
      "None\n"
     ]
    },
    {
     "name": "stderr",
     "output_type": "stream",
     "text": [
      "2022-05-31 19:02:15.038926: I tensorflow/core/platform/cpu_feature_guard.cc:151] This TensorFlow binary is optimized with oneAPI Deep Neural Network Library (oneDNN) to use the following CPU instructions in performance-critical operations:  AVX2 FMA\n",
      "To enable them in other operations, rebuild TensorFlow with the appropriate compiler flags.\n"
     ]
    }
   ],
   "source": [
    "model = Sequential()\n",
    "model.add(Dense(1024, input_shape=(X_train.shape[1],), activation=\"relu\"))\n",
    "model.add(Dropout(0.2))\n",
    "model.add(Dense(512, activation=\"relu\"))\n",
    "model.add(Dropout(0.2))\n",
    "model.add(Dense(256, activation=\"relu\"))\n",
    "model.add(Dropout(0.2))\n",
    "model.add(Dense(128, activation=\"relu\"))\n",
    "model.add(Dropout(0.2))\n",
    "model.add(Dense(64, activation=\"relu\"))\n",
    "model.add(Dropout(0.2))\n",
    "model.add(Dense(10, activation=\"softmax\"))\n",
    "\n",
    "model.compile(optimizer='adam',\n",
    "              loss='sparse_categorical_crossentropy',\n",
    "              metrics=['accuracy'])\n",
    "\n",
    "print(model.summary())"
   ]
  },
  {
   "cell_type": "markdown",
   "metadata": {},
   "source": [
    "# Model Training\n",
    "\n",
    "We define the model checkpointing to save only the model when the validation accuracy is better than the earlier epoch. We also define EarlyStopping to end the training if the validation accuracy does not improve afer _patience_ number of epochs."
   ]
  },
  {
   "cell_type": "code",
   "execution_count": 10,
   "metadata": {
    "execution": {
     "iopub.execute_input": "2022-05-29T16:51:04.430337Z",
     "iopub.status.busy": "2022-05-29T16:51:04.429703Z",
     "iopub.status.idle": "2022-05-29T16:51:08.513055Z",
     "shell.execute_reply": "2022-05-29T16:51:08.511979Z",
     "shell.execute_reply.started": "2022-05-29T16:51:04.430300Z"
    }
   },
   "outputs": [
    {
     "name": "stdout",
     "output_type": "stream",
     "text": [
      "Epoch 1/600\n",
      "58/61 [===========================>..] - ETA: 0s - loss: 1.5769 - accuracy: 0.4293\n",
      "Epoch 00001: val_accuracy improved from -inf to 0.62416, saving model to ./model/best_weights.hdf5\n",
      "61/61 [==============================] - 1s 11ms/step - loss: 1.5635 - accuracy: 0.4352 - val_loss: 1.0832 - val_accuracy: 0.6242\n",
      "Epoch 2/600\n",
      "57/61 [===========================>..] - ETA: 0s - loss: 1.0368 - accuracy: 0.6453\n",
      "Epoch 00002: val_accuracy improved from 0.62416 to 0.71864, saving model to ./model/best_weights.hdf5\n",
      "61/61 [==============================] - 0s 8ms/step - loss: 1.0357 - accuracy: 0.6467 - val_loss: 0.8308 - val_accuracy: 0.7186\n",
      "Epoch 3/600\n",
      "58/61 [===========================>..] - ETA: 0s - loss: 0.8510 - accuracy: 0.7134\n",
      "Epoch 00003: val_accuracy improved from 0.71864 to 0.75116, saving model to ./model/best_weights.hdf5\n",
      "61/61 [==============================] - 1s 8ms/step - loss: 0.8497 - accuracy: 0.7140 - val_loss: 0.7327 - val_accuracy: 0.7512\n",
      "Epoch 4/600\n",
      "57/61 [===========================>..] - ETA: 0s - loss: 0.7123 - accuracy: 0.7664\n",
      "Epoch 00004: val_accuracy improved from 0.75116 to 0.78265, saving model to ./model/best_weights.hdf5\n",
      "61/61 [==============================] - 0s 8ms/step - loss: 0.7147 - accuracy: 0.7648 - val_loss: 0.6562 - val_accuracy: 0.7827\n",
      "Epoch 5/600\n",
      "56/61 [==========================>...] - ETA: 0s - loss: 0.6127 - accuracy: 0.7955\n",
      "Epoch 00005: val_accuracy improved from 0.78265 to 0.79659, saving model to ./model/best_weights.hdf5\n",
      "61/61 [==============================] - 0s 8ms/step - loss: 0.6129 - accuracy: 0.7954 - val_loss: 0.6184 - val_accuracy: 0.7966\n",
      "Epoch 6/600\n",
      "55/61 [==========================>...] - ETA: 0s - loss: 0.5207 - accuracy: 0.8264\n",
      "Epoch 00006: val_accuracy improved from 0.79659 to 0.81982, saving model to ./model/best_weights.hdf5\n",
      "61/61 [==============================] - 0s 8ms/step - loss: 0.5173 - accuracy: 0.8280 - val_loss: 0.5718 - val_accuracy: 0.8198\n",
      "Epoch 7/600\n",
      "56/61 [==========================>...] - ETA: 0s - loss: 0.4562 - accuracy: 0.8492\n",
      "Epoch 00007: val_accuracy improved from 0.81982 to 0.83531, saving model to ./model/best_weights.hdf5\n",
      "61/61 [==============================] - 0s 8ms/step - loss: 0.4541 - accuracy: 0.8502 - val_loss: 0.5384 - val_accuracy: 0.8353\n",
      "Epoch 8/600\n",
      "61/61 [==============================] - ETA: 0s - loss: 0.3853 - accuracy: 0.8722\n",
      "Epoch 00008: val_accuracy improved from 0.83531 to 0.84512, saving model to ./model/best_weights.hdf5\n",
      "61/61 [==============================] - 1s 12ms/step - loss: 0.3853 - accuracy: 0.8722 - val_loss: 0.5123 - val_accuracy: 0.8451\n",
      "Epoch 9/600\n",
      "58/61 [===========================>..] - ETA: 0s - loss: 0.3171 - accuracy: 0.8948\n",
      "Epoch 00009: val_accuracy improved from 0.84512 to 0.85080, saving model to ./model/best_weights.hdf5\n",
      "61/61 [==============================] - 1s 9ms/step - loss: 0.3228 - accuracy: 0.8934 - val_loss: 0.5093 - val_accuracy: 0.8508\n",
      "Epoch 10/600\n",
      "58/61 [===========================>..] - ETA: 0s - loss: 0.3153 - accuracy: 0.9006\n",
      "Epoch 00010: val_accuracy improved from 0.85080 to 0.85596, saving model to ./model/best_weights.hdf5\n",
      "61/61 [==============================] - 1s 9ms/step - loss: 0.3174 - accuracy: 0.9000 - val_loss: 0.4725 - val_accuracy: 0.8560\n",
      "Epoch 11/600\n",
      "61/61 [==============================] - ETA: 0s - loss: 0.2693 - accuracy: 0.9140\n",
      "Epoch 00011: val_accuracy did not improve from 0.85596\n",
      "61/61 [==============================] - 0s 8ms/step - loss: 0.2693 - accuracy: 0.9140 - val_loss: 0.5072 - val_accuracy: 0.8462\n",
      "Epoch 12/600\n",
      "57/61 [===========================>..] - ETA: 0s - loss: 0.2490 - accuracy: 0.9175\n",
      "Epoch 00012: val_accuracy improved from 0.85596 to 0.87765, saving model to ./model/best_weights.hdf5\n",
      "61/61 [==============================] - 0s 8ms/step - loss: 0.2466 - accuracy: 0.9191 - val_loss: 0.4527 - val_accuracy: 0.8776\n",
      "Epoch 13/600\n",
      "57/61 [===========================>..] - ETA: 0s - loss: 0.2045 - accuracy: 0.9320\n",
      "Epoch 00013: val_accuracy did not improve from 0.87765\n",
      "61/61 [==============================] - 1s 10ms/step - loss: 0.2068 - accuracy: 0.9316 - val_loss: 0.4631 - val_accuracy: 0.8709\n",
      "Epoch 14/600\n",
      "58/61 [===========================>..] - ETA: 0s - loss: 0.2025 - accuracy: 0.9371\n",
      "Epoch 00014: val_accuracy did not improve from 0.87765\n",
      "61/61 [==============================] - 1s 9ms/step - loss: 0.2072 - accuracy: 0.9357 - val_loss: 0.4692 - val_accuracy: 0.8611\n",
      "Epoch 15/600\n",
      "58/61 [===========================>..] - ETA: 0s - loss: 0.1905 - accuracy: 0.9398\n",
      "Epoch 00015: val_accuracy improved from 0.87765 to 0.88487, saving model to ./model/best_weights.hdf5\n",
      "61/61 [==============================] - 1s 9ms/step - loss: 0.1881 - accuracy: 0.9405 - val_loss: 0.4475 - val_accuracy: 0.8849\n",
      "Epoch 16/600\n",
      "59/61 [============================>.] - ETA: 0s - loss: 0.1530 - accuracy: 0.9527\n",
      "Epoch 00016: val_accuracy improved from 0.88487 to 0.88642, saving model to ./model/best_weights.hdf5\n",
      "61/61 [==============================] - 1s 10ms/step - loss: 0.1521 - accuracy: 0.9533 - val_loss: 0.4060 - val_accuracy: 0.8864\n",
      "Epoch 17/600\n",
      "57/61 [===========================>..] - ETA: 0s - loss: 0.1481 - accuracy: 0.9550\n",
      "Epoch 00017: val_accuracy did not improve from 0.88642\n",
      "61/61 [==============================] - 0s 8ms/step - loss: 0.1496 - accuracy: 0.9535 - val_loss: 0.5016 - val_accuracy: 0.8720\n",
      "Epoch 18/600\n",
      "59/61 [============================>.] - ETA: 0s - loss: 0.1494 - accuracy: 0.9552\n",
      "Epoch 00018: val_accuracy improved from 0.88642 to 0.88849, saving model to ./model/best_weights.hdf5\n",
      "61/61 [==============================] - 1s 9ms/step - loss: 0.1481 - accuracy: 0.9556 - val_loss: 0.4503 - val_accuracy: 0.8885\n",
      "Epoch 19/600\n",
      "58/61 [===========================>..] - ETA: 0s - loss: 0.1227 - accuracy: 0.9611\n",
      "Epoch 00019: val_accuracy did not improve from 0.88849\n",
      "61/61 [==============================] - 1s 8ms/step - loss: 0.1232 - accuracy: 0.9606 - val_loss: 0.4341 - val_accuracy: 0.8869\n",
      "Epoch 20/600\n",
      "56/61 [==========================>...] - ETA: 0s - loss: 0.1364 - accuracy: 0.9572\n",
      "Epoch 00020: val_accuracy improved from 0.88849 to 0.89571, saving model to ./model/best_weights.hdf5\n",
      "61/61 [==============================] - 0s 8ms/step - loss: 0.1356 - accuracy: 0.9572 - val_loss: 0.3987 - val_accuracy: 0.8957\n",
      "Epoch 21/600\n",
      "60/61 [============================>.] - ETA: 0s - loss: 0.1152 - accuracy: 0.9643\n",
      "Epoch 00021: val_accuracy improved from 0.89571 to 0.89985, saving model to ./model/best_weights.hdf5\n",
      "61/61 [==============================] - 1s 8ms/step - loss: 0.1147 - accuracy: 0.9644 - val_loss: 0.3970 - val_accuracy: 0.8998\n",
      "Epoch 22/600\n",
      "54/61 [=========================>....] - ETA: 0s - loss: 0.0895 - accuracy: 0.9701\n",
      "Epoch 00022: val_accuracy did not improve from 0.89985\n",
      "61/61 [==============================] - 1s 8ms/step - loss: 0.0893 - accuracy: 0.9701 - val_loss: 0.4894 - val_accuracy: 0.8931\n",
      "Epoch 23/600\n",
      "61/61 [==============================] - ETA: 0s - loss: 0.1007 - accuracy: 0.9676\n",
      "Epoch 00023: val_accuracy improved from 0.89985 to 0.90088, saving model to ./model/best_weights.hdf5\n",
      "61/61 [==============================] - 1s 9ms/step - loss: 0.1007 - accuracy: 0.9676 - val_loss: 0.4591 - val_accuracy: 0.9009\n",
      "Epoch 24/600\n",
      "58/61 [===========================>..] - ETA: 0s - loss: 0.1142 - accuracy: 0.9657\n",
      "Epoch 00024: val_accuracy did not improve from 0.90088\n",
      "61/61 [==============================] - 1s 8ms/step - loss: 0.1128 - accuracy: 0.9661 - val_loss: 0.4592 - val_accuracy: 0.8942\n",
      "Epoch 25/600\n",
      "58/61 [===========================>..] - ETA: 0s - loss: 0.0917 - accuracy: 0.9732\n",
      "Epoch 00025: val_accuracy did not improve from 0.90088\n",
      "61/61 [==============================] - 1s 8ms/step - loss: 0.0923 - accuracy: 0.9726 - val_loss: 0.4365 - val_accuracy: 0.8936\n",
      "Epoch 26/600\n",
      "58/61 [===========================>..] - ETA: 0s - loss: 0.0966 - accuracy: 0.9723\n",
      "Epoch 00026: val_accuracy did not improve from 0.90088\n",
      "61/61 [==============================] - 1s 8ms/step - loss: 0.0976 - accuracy: 0.9719 - val_loss: 0.4234 - val_accuracy: 0.9009\n"
     ]
    }
   ],
   "source": [
    "from tensorflow.keras.callbacks import ModelCheckpoint, EarlyStopping\n",
    "\n",
    "batch_size=128\n",
    "epochs = 100\n",
    "model_weight = './model/best_weights.hdf5'\n",
    "\n",
    "best_checkpoint = ModelCheckpoint(model_weight,\n",
    "                                  save_weights_only=False, \n",
    "                                  save_best_only=True,\n",
    "                                  monitor='val_accuracy',\n",
    "                                  mode='max',\n",
    "                                  verbose=1)\n",
    "\n",
    "early_stop = EarlyStopping(monitor='val_accuracy', \n",
    "                           patience=3, \n",
    "                           restore_best_weights=True, \n",
    "                           mode='max')\n",
    "\n",
    "history = model.fit(X_train,\n",
    "                    y_train,\n",
    "                    validation_data=(X_test,y_test),\n",
    "                    epochs=epochs,\n",
    "                    batch_size=batch_size,\n",
    "                    callbacks=[best_checkpoint, early_stop],\n",
    "                    verbose=1)"
   ]
  },
  {
   "cell_type": "code",
   "execution_count": 11,
   "metadata": {
    "execution": {
     "iopub.execute_input": "2022-05-29T16:47:56.642654Z",
     "iopub.status.busy": "2022-05-29T16:47:56.642044Z",
     "iopub.status.idle": "2022-05-29T16:47:57.245223Z",
     "shell.execute_reply": "2022-05-29T16:47:57.244165Z",
     "shell.execute_reply.started": "2022-05-29T16:47:56.642621Z"
    }
   },
   "outputs": [
    {
     "data": {
      "image/png": "[encoded data removed]",
      "text/plain": [
       "<Figure size 432x288 with 1 Axes>"
      ]
     },
     "metadata": {
      "needs_background": "light"
     },
     "output_type": "display_data"
    },
    {
     "data": {
      "image/png": "[encoded data removed]",
      "text/plain": [
       "<Figure size 432x288 with 1 Axes>"
      ]
     },
     "metadata": {
      "needs_background": "light"
     },
     "output_type": "display_data"
    }
   ],
   "source": [
    "plot_training_graph(history)"
   ]
  },
  {
   "cell_type": "markdown",
   "metadata": {},
   "source": [
    "# Model Evaluation"
   ]
  },
  {
   "cell_type": "code",
   "execution_count": 12,
   "metadata": {
    "execution": {
     "iopub.execute_input": "2022-05-29T16:48:01.033234Z",
     "iopub.status.busy": "2022-05-29T16:48:01.032851Z",
     "iopub.status.idle": "2022-05-29T16:48:01.116950Z",
     "shell.execute_reply": "2022-05-29T16:48:01.115707Z",
     "shell.execute_reply.started": "2022-05-29T16:48:01.033203Z"
    }
   },
   "outputs": [
    {
     "name": "stdout",
     "output_type": "stream",
     "text": [
      "16/16 [==============================] - 0s 2ms/step - loss: 0.4591 - accuracy: 0.9009\n",
      "The test loss is  0.4591345489025116\n",
      "The best accuracy is:  90.08776545524597\n"
     ]
    }
   ],
   "source": [
    "test_loss,test_acc = model.evaluate(X_test,y_test,batch_size=128)\n",
    "\n",
    "print(\"The test loss is \",test_loss)\n",
    "print(\"The best accuracy is: \",test_acc*100)"
   ]
  },
  {
   "cell_type": "markdown",
   "metadata": {},
   "source": [
    "# Make Prediction\n",
    "\n",
    "The individual audio file has to be pre-processed before it can be sent to the train model for inference. Before the audio file is processed, load the:\n",
    "* model weights\n",
    "* class label mappings\n",
    "* Standard Scaler\n",
    "\n",
    "The audio file will be pre-processed in the following sequence:\n",
    "* Split the audio file into chunks of smaller 3-seconds chunks\n",
    "* Extract the features from each of the 3-seconds chunk and store them into a dataframe\n",
    "* Scale the values in the dataframe using the Standard Scaler\n",
    "\n",
    "Once the prediction is done - there should be 10 predictions given there are 10 audio chunks for each audio file. The prediction of each audio chunk is done independently and stored into the Counter. The most common value from the Counter will be the overall prediction for t."
   ]
  },
  {
   "cell_type": "code",
   "execution_count": 13,
   "metadata": {},
   "outputs": [
    {
     "name": "stderr",
     "output_type": "stream",
     "text": [
      "/Users/christopher_sia/opt/anaconda3/envs/python37/lib/python3.7/site-packages/pydub/utils.py:170: RuntimeWarning: Couldn't find ffmpeg or avconv - defaulting to ffmpeg, but may not work\n",
      "  warn(\"Couldn't find ffmpeg or avconv - defaulting to ffmpeg, but may not work\", RuntimeWarning)\n"
     ]
    }
   ],
   "source": [
    "from data_processing import *\n",
    "from keras.models import load_model\n",
    "from joblib import load\n",
    "import pickle"
   ]
  },
  {
   "cell_type": "code",
   "execution_count": 14,
   "metadata": {},
   "outputs": [
    {
     "name": "stdout",
     "output_type": "stream",
     "text": [
      "Loading model... done\n",
      "Loading label mappings... done\n",
      "Loading standard scaler... done\n"
     ]
    }
   ],
   "source": [
    "model = load_model('./model/best_weights.hdf5')\n",
    "print(\"Loading model... done\")\n",
    "\n",
    "label_mapping = pickle.load(open(\"mapping.pkl\", \"rb\"))\n",
    "print(\"Loading label mappings... done\")\n",
    "\n",
    "scaler = load('standardscaler.bin')\n",
    "print(\"Loading standard scaler... done\")"
   ]
  },
  {
   "cell_type": "code",
   "execution_count": 19,
   "metadata": {},
   "outputs": [],
   "source": [
    "audio_file = \"./data/metal/metal.00028.wav\"\n",
    "features = pd.DataFrame()\n",
    "temp_dir = os.path.abspath(\"temp\")\n",
    "\n",
    "audio_chunks = extract_audio_chunks(audio_file, 3000, temp_dir)\n",
    "\n",
    "for audio_chunk in audio_chunks:\n",
    "    features = features.append(extract_features(audio_chunk), ignore_index=True)\n",
    "\n",
    "clear_folder(temp_dir)\n",
    "\n",
    "features = features.drop(labels=[\"filename\", \"label\"],axis=1)\n",
    "features = scaler.transform(features)\n",
    "predictions = model.predict(features)"
   ]
  },
  {
   "cell_type": "code",
   "execution_count": 20,
   "metadata": {},
   "outputs": [
    {
     "name": "stdout",
     "output_type": "stream",
     "text": [
      "metal\n"
     ]
    }
   ],
   "source": [
    "from collections import Counter\n",
    "\n",
    "prediction = []\n",
    "\n",
    "for pred in predictions:\n",
    "    prediction.append(label_mapping[np.argmax(pred)])\n",
    "\n",
    "prediction = Counter(prediction)\n",
    "prediction = prediction.most_common()[0][0]\n",
    "print(prediction)"
   ]
  },
  {
   "cell_type": "code",
   "execution_count": null,
   "metadata": {},
   "outputs": [],
   "source": []
  }
 ],
 "metadata": {
  "kernelspec": {
   "display_name": "Python 3 (ipykernel)",
   "language": "python",
   "name": "python3"
  },
  "language_info": {
   "codemirror_mode": {
    "name": "ipython",
    "version": 3
   },
   "file_extension": ".py",
   "mimetype": "text/x-python",
   "name": "python",
   "nbconvert_exporter": "python",
   "pygments_lexer": "ipython3",
   "version": "3.7.11"
  }
 },
 "nbformat": 4,
 "nbformat_minor": 4
}
